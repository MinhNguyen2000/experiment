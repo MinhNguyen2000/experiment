{
 "cells": [
  {
   "cell_type": "markdown",
   "id": "bcc152e0",
   "metadata": {},
   "source": [
    "## A2C (Advantage Actor Critic)"
   ]
  },
  {
   "cell_type": "markdown",
   "id": "0670b9e3",
   "metadata": {},
   "source": [
    "Code to train and test an A2C agent (using the stable-baselines3 library) in the gymnasium CartPole-v1 position. The example is given on stable-baselines3 [documentation](https://stable-baselines3.readthedocs.io/en/master/modules/a2c.html)."
   ]
  },
  {
   "cell_type": "code",
   "execution_count": null,
   "id": "7aa3a92a",
   "metadata": {},
   "outputs": [],
   "source": [
    "from stable_baselines3 import A2C\n",
    "from stable_baselines3.common.env_util import make_vec_env\n",
    "from stable_baselines3.common.vec_env import SubprocVecEnv\n",
    "import gymnasium as gym"
   ]
  },
  {
   "cell_type": "markdown",
   "id": "b089493c",
   "metadata": {},
   "source": [
    "In this example, four vectorized environments are used to train the A2C agent. The parallel environments are created by the `make_vec_env` method"
   ]
  },
  {
   "cell_type": "code",
   "execution_count": null,
   "id": "d21e2c8f",
   "metadata": {},
   "outputs": [],
   "source": [
    "# Create parallel environments\n",
    "vec_env = make_vec_env(\"CartPole-v1\", n_envs=8, vec_env_cls=SubprocVecEnv)\n",
    "model = A2C(\"MlpPolicy\", vec_env, verbose = 1, device = \"cpu\")\n",
    "model.learn(total_timesteps=50000)\n",
    "\n",
    "model.save(\"a2c_cartpole\")"
   ]
  },
  {
   "cell_type": "code",
   "execution_count": null,
   "id": "1f87367b",
   "metadata": {},
   "outputs": [],
   "source": [
    "try: del model\n",
    "except: pass\n",
    "\n",
    "model = A2C.load(\"a2c_cartpole\")\n",
    "obs = vec_env.reset()\n",
    "dones_arr = []\n",
    "\n",
    "for i in range(1000):\n",
    "    action, _states = model.predict(obs)\n",
    "    obs, rewards, dones, info = vec_env.step(action)\n",
    "    dones_arr.append(dones)\n",
    "    vec_env.render(\"human\")\n"
   ]
  },
  {
   "cell_type": "code",
   "execution_count": null,
   "id": "c0fd4642",
   "metadata": {},
   "outputs": [],
   "source": []
  }
 ],
 "metadata": {
  "kernelspec": {
   "display_name": "base",
   "language": "python",
   "name": "python3"
  },
  "language_info": {
   "codemirror_mode": {
    "name": "ipython",
    "version": 3
   },
   "file_extension": ".py",
   "mimetype": "text/x-python",
   "name": "python",
   "nbconvert_exporter": "python",
   "pygments_lexer": "ipython3",
   "version": "3.12.7"
  }
 },
 "nbformat": 4,
 "nbformat_minor": 5
}
