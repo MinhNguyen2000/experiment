{
 "cells": [
  {
   "cell_type": "code",
   "execution_count": 2,
   "id": "f321130e",
   "metadata": {},
   "outputs": [],
   "source": [
    "import gymnasium as gym"
   ]
  },
  {
   "cell_type": "code",
   "execution_count": 6,
   "id": "9bfa1867",
   "metadata": {},
   "outputs": [
    {
     "name": "stdout",
     "output_type": "stream",
     "text": [
      "This environment has 4 continuous state observationsand 1 continuous action\n"
     ]
    }
   ],
   "source": [
    "env = gym.make(\"InvertedPendulum-v5\")\n",
    "obs_space = env.observation_space.shape[0]\n",
    "act_space = env.action_space.shape[0]\n",
    "print(f\"This environment has {obs_space} continuous state observations \"\n",
    "      f\"and {act_space} continuous action\")"
   ]
  },
  {
   "cell_type": "code",
   "execution_count": null,
   "id": "11eb1c03",
   "metadata": {},
   "outputs": [
    {
     "data": {
      "text/plain": [
       "Box(-inf, inf, (4,), float64)"
      ]
     },
     "execution_count": 8,
     "metadata": {},
     "output_type": "execute_result"
    }
   ],
   "source": []
  }
 ],
 "metadata": {
  "kernelspec": {
   "display_name": "torch",
   "language": "python",
   "name": "python3"
  },
  "language_info": {
   "codemirror_mode": {
    "name": "ipython",
    "version": 3
   },
   "file_extension": ".py",
   "mimetype": "text/x-python",
   "name": "python",
   "nbconvert_exporter": "python",
   "pygments_lexer": "ipython3",
   "version": "3.9.21"
  }
 },
 "nbformat": 4,
 "nbformat_minor": 5
}
