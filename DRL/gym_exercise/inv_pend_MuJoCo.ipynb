{
 "cells": [
  {
   "cell_type": "markdown",
   "id": "54c818cf",
   "metadata": {},
   "source": [
    "This is a continuation of the experiment done on the gymnasium cart pole example in the classic-control environment package. Different from the cart pole environment, the inverted pendulum environment in the MuJoCo package extends to continuous action space. Therefore, the output of policy approximation is no longer the probability of each action\n"
   ]
  },
  {
   "cell_type": "markdown",
   "id": "7a9a7765",
   "metadata": {},
   "source": [
    "# Explore the Environment"
   ]
  },
  {
   "cell_type": "code",
   "execution_count": 31,
   "id": "f321130e",
   "metadata": {},
   "outputs": [],
   "source": [
    "import gymnasium as gym"
   ]
  },
  {
   "cell_type": "code",
   "execution_count": null,
   "id": "11eb1c03",
   "metadata": {},
   "outputs": [
    {
     "name": "stdout",
     "output_type": "stream",
     "text": [
      "This environment has 4 continuous state observations and 1 continuous action\n"
     ]
    }
   ],
   "source": [
    "env = gym.make(\"InvertedPendulum-v5\",render_mode='human')\n",
    "obs_space = env.observation_space.shape[0]\n",
    "act_space = env.action_space.shape[0]\n",
    "print(f\"This environment has {obs_space} continuous state observations \"\n",
    "      f\"and {act_space} continuous action\")\n",
    "\n",
    "# Simulate several episodes\n",
    "for i in range(10):\n",
    "    obs, _ = env.reset()\n",
    "    done = False\n",
    "    while not done:\n",
    "        random_action = env.action_space.sample()\n",
    "        next_obs, reward, term, trunc, _ = env.step(random_action)\n",
    "\n",
    "        obs = next_obs\n",
    "        done = term or trunc\n",
    "\n",
    "env.close()"
   ]
  }
 ],
 "metadata": {
  "kernelspec": {
   "display_name": "torch",
   "language": "python",
   "name": "python3"
  },
  "language_info": {
   "codemirror_mode": {
    "name": "ipython",
    "version": 3
   },
   "file_extension": ".py",
   "mimetype": "text/x-python",
   "name": "python",
   "nbconvert_exporter": "python",
   "pygments_lexer": "ipython3",
   "version": "3.12.7"
  }
 },
 "nbformat": 4,
 "nbformat_minor": 5
}
